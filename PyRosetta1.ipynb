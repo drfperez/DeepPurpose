{
  "nbformat": 4,
  "nbformat_minor": 0,
  "metadata": {
    "colab": {
      "provenance": [],
      "authorship_tag": "ABX9TyMgfJk5JiOx9t8L5kmMtHLd",
      "include_colab_link": true
    },
    "kernelspec": {
      "name": "python3",
      "display_name": "Python 3"
    },
    "language_info": {
      "name": "python"
    }
  },
  "cells": [
    {
      "cell_type": "markdown",
      "metadata": {
        "id": "view-in-github",
        "colab_type": "text"
      },
      "source": [
        "<a href=\"https://colab.research.google.com/github/drfperez/DeepPurpose/blob/main/PyRosetta1.ipynb\" target=\"_parent\"><img src=\"https://colab.research.google.com/assets/colab-badge.svg\" alt=\"Open In Colab\"/></a>"
      ]
    },
    {
      "cell_type": "code",
      "source": [
        "\n",
        "!pip install pyrosetta-installer\n",
        "!python -c \"import pyrosetta_installer; pyrosetta_installer.install_pyrosetta()\""
      ],
      "metadata": {
        "colab": {
          "base_uri": "https://localhost:8080/"
        },
        "id": "xs0U5mEXeIOe",
        "outputId": "d29d39ef-cd6f-44ef-9ae3-75888e35b30e"
      },
      "execution_count": 9,
      "outputs": [
        {
          "output_type": "stream",
          "name": "stdout",
          "text": [
            "Collecting pyrosetta-installer\n",
            "  Downloading pyrosetta_installer-0.1.1-py3-none-any.whl (3.9 kB)\n",
            "Installing collected packages: pyrosetta-installer\n",
            "Successfully installed pyrosetta-installer-0.1.1\n",
            "Installing PyRosetta:\n",
            " os: ubuntu\n",
            " type: Release\n",
            " Rosetta C++ extras: \n",
            " mirror: https://west.rosettacommons.org/pyrosetta/release/release\n",
            " extra packages: numpy\n",
            "\n",
            "PyRosetta wheel url: https://:@west.rosettacommons.org/pyrosetta/release/release/PyRosetta4.Release.python310.ubuntu.wheel/pyrosetta-2024.19+release.a34b73c40f-cp310-cp310-linux_x86_64.whl\n",
            "Collecting pyrosetta==2024.19+release.a34b73c40f\n",
            "  Downloading https://:****@west.rosettacommons.org/pyrosetta/release/release/PyRosetta4.Release.python310.ubuntu.wheel/pyrosetta-2024.19+release.a34b73c40f-cp310-cp310-linux_x86_64.whl (1665.3 MB)\n",
            "\u001b[2K     \u001b[90m━━━━━━━━━━━━━━━━━━━━━━━━━━━━━━━━━━━━━━━━\u001b[0m \u001b[32m1.7/1.7 GB\u001b[0m \u001b[31m786.2 kB/s\u001b[0m eta \u001b[36m0:00:00\u001b[0m\n",
            "\u001b[?25hInstalling collected packages: pyrosetta\n",
            "Successfully installed pyrosetta-2024.19+release.a34b73c40f\n",
            "Requirement already satisfied: numpy in /usr/local/lib/python3.10/dist-packages (1.25.2)\n"
          ]
        }
      ]
    },
    {
      "cell_type": "code",
      "execution_count": 11,
      "metadata": {
        "colab": {
          "base_uri": "https://localhost:8080/",
          "height": 1000
        },
        "id": "3BztHKhXdqbk",
        "outputId": "72364c24-a1f8-47af-908d-530687256714"
      },
      "outputs": [
        {
          "output_type": "stream",
          "name": "stdout",
          "text": [
            "Collecting pybel\n",
            "  Downloading pybel-0.15.5-py3-none-any.whl (387 kB)\n",
            "\u001b[2K     \u001b[90m━━━━━━━━━━━━━━━━━━━━━━━━━━━━━━━━━━━━━━━━\u001b[0m \u001b[32m387.8/387.8 kB\u001b[0m \u001b[31m3.2 MB/s\u001b[0m eta \u001b[36m0:00:00\u001b[0m\n",
            "\u001b[?25hRequirement already satisfied: networkx>=2.4 in /usr/local/lib/python3.10/dist-packages (from pybel) (3.3)\n",
            "Requirement already satisfied: sqlalchemy in /usr/local/lib/python3.10/dist-packages (from pybel) (2.0.30)\n",
            "Requirement already satisfied: click in /usr/local/lib/python3.10/dist-packages (from pybel) (8.1.7)\n",
            "Requirement already satisfied: click-plugins in /usr/local/lib/python3.10/dist-packages (from pybel) (1.1.1)\n",
            "Collecting bel-resources>=0.0.3 (from pybel)\n",
            "  Downloading bel_resources-0.0.3-py3-none-any.whl (17 kB)\n",
            "Requirement already satisfied: more-itertools in /usr/local/lib/python3.10/dist-packages (from pybel) (10.1.0)\n",
            "Requirement already satisfied: requests in /usr/local/lib/python3.10/dist-packages (from pybel) (2.31.0)\n",
            "Collecting requests-file (from pybel)\n",
            "  Downloading requests_file-2.0.0-py2.py3-none-any.whl (4.2 kB)\n",
            "Requirement already satisfied: pyparsing in /usr/local/lib/python3.10/dist-packages (from pybel) (3.1.2)\n",
            "Requirement already satisfied: tqdm in /usr/local/lib/python3.10/dist-packages (from pybel) (4.66.4)\n",
            "Requirement already satisfied: humanize in /usr/local/lib/python3.10/dist-packages (from pybel) (4.7.0)\n",
            "Requirement already satisfied: tabulate in /usr/local/lib/python3.10/dist-packages (from pybel) (0.9.0)\n",
            "Requirement already satisfied: pandas in /usr/local/lib/python3.10/dist-packages (from pybel) (2.0.3)\n",
            "Requirement already satisfied: jsonschema in /usr/local/lib/python3.10/dist-packages (from pybel) (4.19.2)\n",
            "Collecting bioregistry (from pybel)\n",
            "  Downloading bioregistry-0.11.3-py3-none-any.whl (5.1 MB)\n",
            "\u001b[2K     \u001b[90m━━━━━━━━━━━━━━━━━━━━━━━━━━━━━━━━━━━━━━━━\u001b[0m \u001b[32m5.1/5.1 MB\u001b[0m \u001b[31m33.8 MB/s\u001b[0m eta \u001b[36m0:00:00\u001b[0m\n",
            "\u001b[?25hCollecting ratelimit (from pybel)\n",
            "  Downloading ratelimit-2.2.1.tar.gz (5.3 kB)\n",
            "  Preparing metadata (setup.py) ... \u001b[?25l\u001b[?25hdone\n",
            "Collecting pystow>=0.1.2 (from pybel)\n",
            "  Downloading pystow-0.5.4-py3-none-any.whl (32 kB)\n",
            "Collecting psycopg2-binary (from pybel)\n",
            "  Downloading psycopg2_binary-2.9.9-cp310-cp310-manylinux_2_17_x86_64.manylinux2014_x86_64.whl (3.0 MB)\n",
            "\u001b[2K     \u001b[90m━━━━━━━━━━━━━━━━━━━━━━━━━━━━━━━━━━━━━━━━\u001b[0m \u001b[32m3.0/3.0 MB\u001b[0m \u001b[31m76.9 MB/s\u001b[0m eta \u001b[36m0:00:00\u001b[0m\n",
            "\u001b[?25hCollecting multisplitby (from bel-resources>=0.0.3->pybel)\n",
            "  Downloading multisplitby-0.0.1-py3-none-any.whl (4.0 kB)\n",
            "Collecting more-click>=0.1.2 (from bioregistry->pybel)\n",
            "  Downloading more_click-0.1.2-py3-none-any.whl (6.7 kB)\n",
            "Requirement already satisfied: pydantic in /usr/local/lib/python3.10/dist-packages (from bioregistry->pybel) (2.7.1)\n",
            "Collecting curies>=0.7.0 (from bioregistry->pybel)\n",
            "  Downloading curies-0.7.9-py3-none-any.whl (45 kB)\n",
            "\u001b[2K     \u001b[90m━━━━━━━━━━━━━━━━━━━━━━━━━━━━━━━━━━━━━━━━\u001b[0m \u001b[32m45.8/45.8 kB\u001b[0m \u001b[31m5.4 MB/s\u001b[0m eta \u001b[36m0:00:00\u001b[0m\n",
            "\u001b[?25hRequirement already satisfied: attrs>=22.2.0 in /usr/local/lib/python3.10/dist-packages (from jsonschema->pybel) (23.2.0)\n",
            "Requirement already satisfied: jsonschema-specifications>=2023.03.6 in /usr/local/lib/python3.10/dist-packages (from jsonschema->pybel) (2023.12.1)\n",
            "Requirement already satisfied: referencing>=0.28.4 in /usr/local/lib/python3.10/dist-packages (from jsonschema->pybel) (0.35.1)\n",
            "Requirement already satisfied: rpds-py>=0.7.1 in /usr/local/lib/python3.10/dist-packages (from jsonschema->pybel) (0.18.1)\n",
            "Requirement already satisfied: python-dateutil>=2.8.2 in /usr/local/lib/python3.10/dist-packages (from pandas->pybel) (2.8.2)\n",
            "Requirement already satisfied: pytz>=2020.1 in /usr/local/lib/python3.10/dist-packages (from pandas->pybel) (2023.4)\n",
            "Requirement already satisfied: tzdata>=2022.1 in /usr/local/lib/python3.10/dist-packages (from pandas->pybel) (2024.1)\n",
            "Requirement already satisfied: numpy>=1.21.0 in /usr/local/lib/python3.10/dist-packages (from pandas->pybel) (1.25.2)\n",
            "Requirement already satisfied: charset-normalizer<4,>=2 in /usr/local/lib/python3.10/dist-packages (from requests->pybel) (3.3.2)\n",
            "Requirement already satisfied: idna<4,>=2.5 in /usr/local/lib/python3.10/dist-packages (from requests->pybel) (3.7)\n",
            "Requirement already satisfied: urllib3<3,>=1.21.1 in /usr/local/lib/python3.10/dist-packages (from requests->pybel) (2.0.7)\n",
            "Requirement already satisfied: certifi>=2017.4.17 in /usr/local/lib/python3.10/dist-packages (from requests->pybel) (2024.2.2)\n",
            "Requirement already satisfied: typing-extensions>=4.6.0 in /usr/local/lib/python3.10/dist-packages (from sqlalchemy->pybel) (4.11.0)\n",
            "Requirement already satisfied: greenlet!=0.4.17 in /usr/local/lib/python3.10/dist-packages (from sqlalchemy->pybel) (3.0.3)\n",
            "Collecting pytrie (from curies>=0.7.0->bioregistry->pybel)\n",
            "  Downloading PyTrie-0.4.0-py3-none-any.whl (6.1 kB)\n",
            "Requirement already satisfied: six>=1.5 in /usr/local/lib/python3.10/dist-packages (from python-dateutil>=2.8.2->pandas->pybel) (1.16.0)\n",
            "Requirement already satisfied: annotated-types>=0.4.0 in /usr/local/lib/python3.10/dist-packages (from pydantic->bioregistry->pybel) (0.6.0)\n",
            "Requirement already satisfied: pydantic-core==2.18.2 in /usr/local/lib/python3.10/dist-packages (from pydantic->bioregistry->pybel) (2.18.2)\n",
            "Requirement already satisfied: sortedcontainers in /usr/local/lib/python3.10/dist-packages (from pytrie->curies>=0.7.0->bioregistry->pybel) (2.4.0)\n",
            "Building wheels for collected packages: ratelimit\n",
            "  Building wheel for ratelimit (setup.py) ... \u001b[?25l\u001b[?25hdone\n",
            "  Created wheel for ratelimit: filename=ratelimit-2.2.1-py3-none-any.whl size=5894 sha256=02b3d862aa12210f86b582c578687f83b852cd1bbe6c23cc138ed7a4ea4f92ff\n",
            "  Stored in directory: /root/.cache/pip/wheels/27/5f/ba/e972a56dcbf5de9f2b7d2b2a710113970bd173c4dcd3d2c902\n",
            "Successfully built ratelimit\n",
            "Installing collected packages: ratelimit, pytrie, psycopg2-binary, multisplitby, more-click, requests-file, pystow, curies, bel-resources, bioregistry, pybel\n",
            "Successfully installed bel-resources-0.0.3 bioregistry-0.11.3 curies-0.7.9 more-click-0.1.2 multisplitby-0.0.1 psycopg2-binary-2.9.9 pybel-0.15.5 pystow-0.5.4 pytrie-0.4.0 ratelimit-2.2.1 requests-file-2.0.0\n",
            "┌──────────────────────────────────────────────────────────────────────────────┐\n",
            "│                                 PyRosetta-4                                  │\n",
            "│              Created in JHU by Sergey Lyskov and PyRosetta Team              │\n",
            "│              (C) Copyright Rosetta Commons Member Institutions               │\n",
            "│                                                                              │\n",
            "│ NOTE: USE OF PyRosetta FOR COMMERCIAL PURPOSES REQUIRE PURCHASE OF A LICENSE │\n",
            "│         See LICENSE.PyRosetta.md or email license@uw.edu for details         │\n",
            "└──────────────────────────────────────────────────────────────────────────────┘\n",
            "PyRosetta-4 2024 [Rosetta PyRosetta4.Release.python310.ubuntu 2024.19+release.a34b73c40fe9c61558d566d6a63f803cfb15a4fc 2024-05-02T16:22:03] retrieved from: http://www.pyrosetta.org\n",
            "core.init: Checking for fconfig files in pwd and ./rosetta/flags\n",
            "core.init: Rosetta version: PyRosetta4.Release.python310.ubuntu r381 2024.19+release.a34b73c40f a34b73c40fe9c61558d566d6a63f803cfb15a4fc http://www.pyrosetta.org 2024-05-02T16:22:03\n",
            "core.init: Rosetta extras: []\n",
            "core.init: command: PyRosetta -ex1 -ex2aro -database /usr/local/lib/python3.10/dist-packages/pyrosetta/database\n",
            "basic.random.init_random_generator: 'RNG device' seed mode, using '/dev/urandom', seed=-474336455 seed_offset=0 real_seed=-474336455\n",
            "basic.random.init_random_generator: RandomGenerator:init: Normal mode, seed=-474336455 RG_type=mt19937\n",
            "/bin/bash: line 1: upload: command not found\n",
            "core.chemical.GlobalResidueTypeSet: Finished initializing fa_standard residue type set.  Created 985 residue types\n",
            "core.chemical.GlobalResidueTypeSet: Total time to initialize 1.91641 seconds.\n",
            "core.import_pose.import_pose: [ ERROR ] File: receptor.pdb not found!\n"
          ]
        },
        {
          "output_type": "error",
          "ename": "RuntimeError",
          "evalue": "\n\nFile: /home/benchmark/rosetta/source/src/core/import_pose/import_pose.cc:361\n[ ERROR ] UtilityExitException\nERROR: Cannot open file \"receptor.pdb\"\n\n",
          "traceback": [
            "\u001b[0;31m---------------------------------------------------------------------------\u001b[0m",
            "\u001b[0;31mRuntimeError\u001b[0m                              Traceback (most recent call last)",
            "\u001b[0;32m<ipython-input-11-51b03c27bf27>\u001b[0m in \u001b[0;36m<cell line: 15>\u001b[0;34m()\u001b[0m\n\u001b[1;32m     13\u001b[0m \u001b[0;34m\u001b[0m\u001b[0m\n\u001b[1;32m     14\u001b[0m \u001b[0;31m# Load the receptor structure into Rosetta\u001b[0m\u001b[0;34m\u001b[0m\u001b[0;34m\u001b[0m\u001b[0m\n\u001b[0;32m---> 15\u001b[0;31m \u001b[0mreceptor_pose\u001b[0m \u001b[0;34m=\u001b[0m \u001b[0mpose_from_pdb\u001b[0m\u001b[0;34m(\u001b[0m\u001b[0mreceptor_pdb\u001b[0m\u001b[0;34m)\u001b[0m\u001b[0;34m\u001b[0m\u001b[0;34m\u001b[0m\u001b[0m\n\u001b[0m\u001b[1;32m     16\u001b[0m \u001b[0;34m\u001b[0m\u001b[0m\n\u001b[1;32m     17\u001b[0m \u001b[0;31m# Get the uploaded ligand mol2 file\u001b[0m\u001b[0;34m\u001b[0m\u001b[0;34m\u001b[0m\u001b[0m\n",
            "\u001b[0;32m/usr/local/lib/python3.10/dist-packages/pyrosetta/io/__init__.py\u001b[0m in \u001b[0;36mpose_from_pdb\u001b[0;34m(filename)\u001b[0m\n\u001b[1;32m     18\u001b[0m \u001b[0;31m# because otherwise, it wrecks a lot of people's scripts.  ~Labonte\u001b[0m\u001b[0;34m\u001b[0m\u001b[0;34m\u001b[0m\u001b[0m\n\u001b[1;32m     19\u001b[0m \u001b[0;32mdef\u001b[0m \u001b[0mpose_from_pdb\u001b[0m\u001b[0;34m(\u001b[0m\u001b[0mfilename\u001b[0m\u001b[0;34m)\u001b[0m\u001b[0;34m:\u001b[0m\u001b[0;34m\u001b[0m\u001b[0;34m\u001b[0m\u001b[0m\n\u001b[0;32m---> 20\u001b[0;31m     \u001b[0;32mreturn\u001b[0m \u001b[0mpose_from_file\u001b[0m\u001b[0;34m(\u001b[0m\u001b[0mfilename\u001b[0m\u001b[0;34m)\u001b[0m\u001b[0;34m\u001b[0m\u001b[0;34m\u001b[0m\u001b[0m\n\u001b[0m\u001b[1;32m     21\u001b[0m \u001b[0;34m\u001b[0m\u001b[0m\n\u001b[1;32m     22\u001b[0m \u001b[0;34m\u001b[0m\u001b[0m\n",
            "\u001b[0;31mRuntimeError\u001b[0m: \n\nFile: /home/benchmark/rosetta/source/src/core/import_pose/import_pose.cc:361\n[ ERROR ] UtilityExitException\nERROR: Cannot open file \"receptor.pdb\"\n\n"
          ]
        }
      ],
      "source": [
        "!pip install pybel\n",
        "\n",
        "import os\n",
        "from pyrosetta import *\n",
        "import pybel\n",
        "\n",
        "# Initialize Rosetta\n",
        "init()\n",
        "\n",
        "# Get the uploaded receptor PDB file\n",
        "receptor_pdb = 'receptor.pdb'\n",
        "!upload {receptor_pdb}\n",
        "\n",
        "# Load the receptor structure into Rosetta\n",
        "receptor_pose = pose_from_pdb(receptor_pdb)\n",
        "\n",
        "# Get the uploaded ligand mol2 file\n",
        "ligand_mol2 = 'ligand.mol2'\n",
        "!upload {ligand_mol2}\n",
        "\n",
        "# Convert the ligand mol2 file to a PyBEL molecule\n",
        "mol = next(pybel.readfile('mol2', ligand_mol2))\n",
        "\n",
        "# Convert the PyBEL molecule to a Rosetta pose\n",
        "ligand_pose = pose_from_mol(mol)\n",
        "\n",
        "# Create a docking protocol\n",
        "dock_protocol = protocols.docking.DockingProtocol()\n",
        "dock_protocol.set_receptor_pose(receptor_pose)\n",
        "dock_protocol.set_ligand_pose(ligand_pose)\n",
        "\n",
        "# Set up the docking parameters\n",
        "dock_protocol.set_docking_low_res_score_only(True)\n",
        "dock_protocol.set_docking_high_res_score_only(True)\n",
        "\n",
        "# Run the docking protocol\n",
        "dock_protocol.apply(receptor_pose)\n",
        "\n",
        "# Get the docked pose\n",
        "docked_pose = dock_protocol.get_docked_pose()\n",
        "\n",
        "# Calculate the binding energy (dG) using the Rosetta scoring function\n",
        "scorefxn = get_fa_scorefxn()\n",
        "binding_energy = scorefxn(docked_pose)\n",
        "\n",
        "# Calculate the total score of the docked pose\n",
        "total_score = scorefxn(docked_pose)\n",
        "\n",
        "# Save the docked pose to a PDB file\n",
        "docked_pdb = 'docked.pdb'\n",
        "docked_pose.dump_pdb(docked_pdb)\n",
        "\n",
        "print(f\"Docked pose saved to {docked_pdb}\")\n",
        "print(f\"Binding energy (dG): {binding_energy:.2f} kcal/mol\")\n",
        "print(f\"Total score: {total_score:.2f}\")"
      ]
    }
  ]
}
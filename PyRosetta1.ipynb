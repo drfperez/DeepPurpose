{
  "nbformat": 4,
  "nbformat_minor": 0,
  "metadata": {
    "colab": {
      "provenance": [],
      "authorship_tag": "ABX9TyMDj0RBP6KQFubBAQZ7CckD",
      "include_colab_link": true
    },
    "kernelspec": {
      "name": "python3",
      "display_name": "Python 3"
    },
    "language_info": {
      "name": "python"
    }
  },
  "cells": [
    {
      "cell_type": "markdown",
      "metadata": {
        "id": "view-in-github",
        "colab_type": "text"
      },
      "source": [
        "<a href=\"https://colab.research.google.com/github/drfperez/DeepPurpose/blob/main/PyRosetta1.ipynb\" target=\"_parent\"><img src=\"https://colab.research.google.com/assets/colab-badge.svg\" alt=\"Open In Colab\"/></a>"
      ]
    },
    {
      "cell_type": "code",
      "source": [
        "\n",
        "!pip install pyrosetta-installer\n",
        "!python -c \"import pyrosetta_installer; pyrosetta_installer.install_pyrosetta()\""
      ],
      "metadata": {
        "colab": {
          "base_uri": "https://localhost:8080/"
        },
        "id": "xs0U5mEXeIOe",
        "outputId": "d29d39ef-cd6f-44ef-9ae3-75888e35b30e"
      },
      "execution_count": null,
      "outputs": [
        {
          "output_type": "stream",
          "name": "stdout",
          "text": [
            "Collecting pyrosetta-installer\n",
            "  Downloading pyrosetta_installer-0.1.1-py3-none-any.whl (3.9 kB)\n",
            "Installing collected packages: pyrosetta-installer\n",
            "Successfully installed pyrosetta-installer-0.1.1\n",
            "Installing PyRosetta:\n",
            " os: ubuntu\n",
            " type: Release\n",
            " Rosetta C++ extras: \n",
            " mirror: https://west.rosettacommons.org/pyrosetta/release/release\n",
            " extra packages: numpy\n",
            "\n",
            "PyRosetta wheel url: https://:@west.rosettacommons.org/pyrosetta/release/release/PyRosetta4.Release.python310.ubuntu.wheel/pyrosetta-2024.19+release.a34b73c40f-cp310-cp310-linux_x86_64.whl\n",
            "Collecting pyrosetta==2024.19+release.a34b73c40f\n",
            "  Downloading https://:****@west.rosettacommons.org/pyrosetta/release/release/PyRosetta4.Release.python310.ubuntu.wheel/pyrosetta-2024.19+release.a34b73c40f-cp310-cp310-linux_x86_64.whl (1665.3 MB)\n",
            "\u001b[2K     \u001b[90m━━━━━━━━━━━━━━━━━━━━━━━━━━━━━━━━━━━━━━━━\u001b[0m \u001b[32m1.7/1.7 GB\u001b[0m \u001b[31m786.2 kB/s\u001b[0m eta \u001b[36m0:00:00\u001b[0m\n",
            "\u001b[?25hInstalling collected packages: pyrosetta\n"
          ]
        }
      ]
    },
    {
      "cell_type": "code",
      "execution_count": 1,
      "metadata": {
        "colab": {
          "base_uri": "https://localhost:8080/",
          "height": 647
        },
        "id": "3BztHKhXdqbk",
        "outputId": "3acede3a-ff69-4300-b887-672339d6a4cf"
      },
      "outputs": [
        {
          "output_type": "stream",
          "name": "stdout",
          "text": [
            "\u001b[31mERROR: Could not find a version that satisfies the requirement pyrosetta (from versions: none)\u001b[0m\u001b[31m\n",
            "\u001b[0m\u001b[31mERROR: No matching distribution found for pyrosetta\u001b[0m\u001b[31m\n",
            "\u001b[0m"
          ]
        },
        {
          "output_type": "error",
          "ename": "ModuleNotFoundError",
          "evalue": "No module named 'pyrosetta'",
          "traceback": [
            "\u001b[0;31m---------------------------------------------------------------------------\u001b[0m",
            "\u001b[0;31mModuleNotFoundError\u001b[0m                       Traceback (most recent call last)",
            "\u001b[0;32m<ipython-input-1-0f2627cdaad1>\u001b[0m in \u001b[0;36m<cell line: 4>\u001b[0;34m()\u001b[0m\n\u001b[1;32m      2\u001b[0m \u001b[0;34m\u001b[0m\u001b[0m\n\u001b[1;32m      3\u001b[0m \u001b[0;32mimport\u001b[0m \u001b[0mos\u001b[0m\u001b[0;34m\u001b[0m\u001b[0;34m\u001b[0m\u001b[0m\n\u001b[0;32m----> 4\u001b[0;31m \u001b[0;32mfrom\u001b[0m \u001b[0mpyrosetta\u001b[0m \u001b[0;32mimport\u001b[0m \u001b[0;34m*\u001b[0m\u001b[0;34m\u001b[0m\u001b[0;34m\u001b[0m\u001b[0m\n\u001b[0m\u001b[1;32m      5\u001b[0m \u001b[0;32mimport\u001b[0m \u001b[0mpybel\u001b[0m\u001b[0;34m\u001b[0m\u001b[0;34m\u001b[0m\u001b[0m\n\u001b[1;32m      6\u001b[0m \u001b[0;34m\u001b[0m\u001b[0m\n",
            "\u001b[0;31mModuleNotFoundError\u001b[0m: No module named 'pyrosetta'",
            "",
            "\u001b[0;31m---------------------------------------------------------------------------\u001b[0;32m\nNOTE: If your import is failing due to a missing package, you can\nmanually install dependencies using either !pip or !apt.\n\nTo view examples of installing some common dependencies, click the\n\"Open Examples\" button below.\n\u001b[0;31m---------------------------------------------------------------------------\u001b[0m\n"
          ],
          "errorDetails": {
            "actions": [
              {
                "action": "open_url",
                "actionText": "Open Examples",
                "url": "/notebooks/snippets/importing_libraries.ipynb"
              }
            ]
          }
        }
      ],
      "source": [
        "\n",
        "\n",
        "import os\n",
        "from pyrosetta import *\n",
        "import pybel\n",
        "\n",
        "# Initialize Rosetta\n",
        "init()\n",
        "\n",
        "# Get the uploaded receptor PDB file\n",
        "receptor_pdb = 'receptor.pdb'\n",
        "!upload {receptor_pdb}\n",
        "\n",
        "# Load the receptor structure into Rosetta\n",
        "receptor_pose = pose_from_pdb(receptor_pdb)\n",
        "\n",
        "# Get the uploaded ligand mol2 file\n",
        "ligand_mol2 = 'ligand.mol2'\n",
        "!upload {ligand_mol2}\n",
        "\n",
        "# Convert the ligand mol2 file to a PyBEL molecule\n",
        "mol = next(pybel.readfile('mol2', ligand_mol2))\n",
        "\n",
        "# Convert the PyBEL molecule to a Rosetta pose\n",
        "ligand_pose = pose_from_mol(mol)\n",
        "\n",
        "# Create a docking protocol\n",
        "dock_protocol = protocols.docking.DockingProtocol()\n",
        "dock_protocol.set_receptor_pose(receptor_pose)\n",
        "dock_protocol.set_ligand_pose(ligand_pose)\n",
        "\n",
        "# Set up the docking parameters\n",
        "dock_protocol.set_docking_low_res_score_only(True)\n",
        "dock_protocol.set_docking_high_res_score_only(True)\n",
        "\n",
        "# Run the docking protocol\n",
        "dock_protocol.apply(receptor_pose)\n",
        "\n",
        "# Get the docked pose\n",
        "docked_pose = dock_protocol.get_docked_pose()\n",
        "\n",
        "# Calculate the binding energy (dG) using the Rosetta scoring function\n",
        "scorefxn = get_fa_scorefxn()\n",
        "binding_energy = scorefxn(docked_pose)\n",
        "\n",
        "# Calculate the total score of the docked pose\n",
        "total_score = scorefxn(docked_pose)\n",
        "\n",
        "# Save the docked pose to a PDB file\n",
        "docked_pdb = 'docked.pdb'\n",
        "docked_pose.dump_pdb(docked_pdb)\n",
        "\n",
        "print(f\"Docked pose saved to {docked_pdb}\")\n",
        "print(f\"Binding energy (dG): {binding_energy:.2f} kcal/mol\")\n",
        "print(f\"Total score: {total_score:.2f}\")"
      ]
    }
  ]
}
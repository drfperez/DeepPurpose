
# Install the required libraries
!pip install DeepPurpose
!pip install gradio
!pip install rdkit
!pip install rdkit-pypi
!pip install git+https://github.com/bp-kelley/descriptastorus
!pip install pandas-flavor

# Import the libraries
import numpy as np
import pandas as pd
from DeepPurpose import utils
from DeepPurpose import DTI as models
import gradio as gr

# Load the pretrained models for different datasets
model_binding = models.model_pretrained(model='MPNN_CNN_BindingDB')
model_kiba = models.model_pretrained(model='MPNN_CNN_KIBA')
model_davis = models.model_pretrained(model='MPNN_CNN_DAVIS')

def DTI_pred(data, drug, target):
    """
    This function predicts the drug-target interaction affinity for a given dataset, drug, and target.
    Parameters:
    - data: the name of the dataset to use for the prediction, one of ['BindingDB', 'DAVIS', 'KIBA']
    - drug: a string of one or more drug molecules in SMILES format, separated by comma
    - target: a string of the target protein sequence in amino acid format
    Returns:
    - a string of the predicted affinities for each drug, separated by comma
    """
    # Select the model based on the data
    if data == 'BindingDB':
        model = model_binding
    elif data == 'KIBA':
        model = model_kiba
    elif data == 'DAVIS':
        model = model_davis

    # Split the drug smiles by comma and create a list of drugs
    drugs = drug.split(",")
    # Create an empty list to store the predictions
    predictions = []
    # Loop through each drug in the list
    for drug in drugs:
        # Process the drug and target data
        X_pred = utils.data_process(X_drug=[drug], X_target=[target], y=[0],
                                    drug_encoding='MPNN', target_encoding='CNN',
                                    split_method='no_split')
        # Predict the affinity for the drug and target pair
        y_pred = model.predict(X_pred)
        # Append the prediction to the list
        predictions.append(str(y_pred[0]))
    # Join the predictions by comma and return the result
    return ", ".join(predictions)

# Create a gradio interface with the inputs, outputs, and title
interface = gr.Interface(fn=DTI_pred,
                         inputs=[gr.Dropdown(label="Training Dataset", choices=['BindingDB', 'DAVIS', 'KIBA']),
                                 gr.Textbox(lines=5, label="Drug SMILES (separated by comma)"),
                                 gr.Textbox(lines=5, label="Target Amino Acid Sequence")],
                         outputs=gr.Textbox(label="Predicted Affinities"),
                         title="Drug-Target Interaction Prediction with DeepPurpose")

# Launch the interface
interface.launch()
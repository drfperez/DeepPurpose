{
  "nbformat": 4,
  "nbformat_minor": 0,
  "metadata": {
    "colab": {
      "provenance": [],
      "authorship_tag": "ABX9TyPFTh7CJSz9y5NptMz7LpP7",
      "include_colab_link": true
    },
    "kernelspec": {
      "name": "python3",
      "display_name": "Python 3"
    },
    "language_info": {
      "name": "python"
    }
  },
  "cells": [
    {
      "cell_type": "markdown",
      "metadata": {
        "id": "view-in-github",
        "colab_type": "text"
      },
      "source": [
        "<a href=\"https://colab.research.google.com/github/drfperez/DeepPurpose/blob/main/Comparing.ipynb\" target=\"_parent\"><img src=\"https://colab.research.google.com/assets/colab-badge.svg\" alt=\"Open In Colab\"/></a>"
      ]
    },
    {
      "cell_type": "code",
      "execution_count": null,
      "metadata": {
        "colab": {
          "base_uri": "https://localhost:8080/"
        },
        "id": "xYUw-VGqh-dJ",
        "outputId": "bced865f-9073-4fc8-ae0d-4e5d672810c2"
      },
      "outputs": [
        {
          "output_type": "stream",
          "name": "stdout",
          "text": [
            "Requirement already satisfied: rdkit in /usr/local/lib/python3.10/dist-packages (2023.9.5)\n",
            "Requirement already satisfied: numpy in /usr/local/lib/python3.10/dist-packages (from rdkit) (1.25.2)\n",
            "Requirement already satisfied: Pillow in /usr/local/lib/python3.10/dist-packages (from rdkit) (9.4.0)\n",
            "Similitud de Tanimoto: 0.6666666666666666\n",
            "Similitud de Dice: 0.8\n"
          ]
        }
      ],
      "source": [
        "!pip install rdkit\n",
        "from rdkit import Chem\n",
        "from rdkit.Chem import AllChem\n",
        "from rdkit import DataStructs\n",
        "\n",
        "def calcular_similitud_Tanimoto(smiles1, smiles2):\n",
        "    mol1 = Chem.MolFromSmiles(smiles1)\n",
        "    mol2 = Chem.MolFromSmiles(smiles2)\n",
        "\n",
        "    if mol1 is None or mol2 is None:\n",
        "        print(\"Error: SMILES inválido.\")\n",
        "        return None\n",
        "\n",
        "    fp1 = AllChem.GetMorganFingerprintAsBitVect(mol1, 2)\n",
        "    fp2 = AllChem.GetMorganFingerprintAsBitVect(mol2, 2)\n",
        "\n",
        "    similitud = DataStructs.TanimotoSimilarity(fp1, fp2)\n",
        "    return similitud\n",
        "\n",
        "def calcular_similitud_Dice(smiles1, smiles2):\n",
        "    mol1 = Chem.MolFromSmiles(smiles1)\n",
        "    mol2 = Chem.MolFromSmiles(smiles2)\n",
        "\n",
        "    if mol1 is None or mol2 is None:\n",
        "        print(\"Error: SMILES inválido.\")\n",
        "        return None\n",
        "\n",
        "    fp1 = AllChem.GetMorganFingerprintAsBitVect(mol1, 2)\n",
        "    fp2 = AllChem.GetMorganFingerprintAsBitVect(mol2, 2)\n",
        "\n",
        "    similitud = DataStructs.DiceSimilarity(fp1, fp2)\n",
        "    return similitud\n",
        "\n",
        "\n",
        "\n",
        "\n",
        "# Introducir los SMILES de las dos moléculas a comparar\n",
        "smiles_mol1 = \"CC1C(=O)OC2C1(C34C(=O)OC5C3(C2O)C6(C(C5)C(C)(C)C)C(C(=O)OC6O4)O)O\"\n",
        "smiles_mol2 = \"CC1C(=O)OC2C1(C34C(=O)OC5C3(C2)C6(C(C5)C(C)(C)C)C(C(=O)OC6O4)O)O\"\n",
        "\n",
        "# Cálculo de la similitud de Tanimoto\n",
        "similitud_tanimoto = calcular_similitud_Tanimoto(smiles_mol1, smiles_mol2)\n",
        "print(\"Similitud de Tanimoto:\", similitud_tanimoto)\n",
        "\n",
        "# Cálculo de la similitud de Dice\n",
        "similitud_dice = calcular_similitud_Dice(smiles_mol1, smiles_mol2)\n",
        "print(\"Similitud de Dice:\", similitud_dice)"
      ]
    },
    {
      "cell_type": "code",
      "source": [],
      "metadata": {
        "id": "GZDAvPsQBhvT"
      },
      "execution_count": null,
      "outputs": []
    },
    {
      "cell_type": "code",
      "source": [
        "\n",
        "from rdkit import DataStructs\n",
        "\n",
        "# Obtener los atributos del módulo 'rdkit.DataStructs'\n",
        "atributos = dir(DataStructs)\n",
        "\n",
        "# Imprimir los atributos\n",
        "for atributo in atributos:\n",
        "    print(atributo)"
      ],
      "metadata": {
        "colab": {
          "base_uri": "https://localhost:8080/"
        },
        "id": "y5yRpEeWkVKQ",
        "outputId": "9b3f0d6b-1786-4c64-ecc4-f3a838554e46"
      },
      "execution_count": null,
      "outputs": [
        {
          "output_type": "stream",
          "name": "stdout",
          "text": [
            "AllBitSimilarity\n",
            "AllProbeBitsMatch\n",
            "AsymmetricSimilarity\n",
            "AsymmetricSimilarityNeighbors\n",
            "AsymmetricSimilarityNeighbors_sparse\n",
            "BitVectToBinaryText\n",
            "BitVectToFPSText\n",
            "BitVectToText\n",
            "BraunBlanquetSimilarity\n",
            "BraunBlanquetSimilarityNeighbors\n",
            "BraunBlanquetSimilarityNeighbors_sparse\n",
            "BulkAllBitSimilarity\n",
            "BulkAsymmetricSimilarity\n",
            "BulkBraunBlanquetSimilarity\n",
            "BulkCosineSimilarity\n",
            "BulkDiceSimilarity\n",
            "BulkKulczynskiSimilarity\n",
            "BulkMcConnaugheySimilarity\n",
            "BulkOnBitSimilarity\n",
            "BulkRogotGoldbergSimilarity\n",
            "BulkRusselSimilarity\n",
            "BulkSokalSimilarity\n",
            "BulkTanimotoSimilarity\n",
            "BulkTverskySimilarity\n",
            "ComputeL1Norm\n",
            "ConvertToExplicit\n",
            "ConvertToNumpyArray\n",
            "CosineSimilarity\n",
            "CosineSimilarityNeighbors\n",
            "CosineSimilarityNeighbors_sparse\n",
            "CreateFromBinaryText\n",
            "CreateFromBitString\n",
            "CreateFromFPSText\n",
            "DiceSimilarity\n",
            "DiceSimilarityNeighbors\n",
            "DiceSimilarityNeighbors_sparse\n",
            "DiscreteValueType\n",
            "DiscreteValueVect\n",
            "EIGHTBITVALUE\n",
            "ExplicitBitVect\n",
            "FOURBITVALUE\n",
            "FPBReader\n",
            "FingerprintSimilarity\n",
            "FoldFingerprint\n",
            "FoldToTargetDensity\n",
            "InitFromDaylightString\n",
            "IntSparseIntVect\n",
            "KulczynskiSimilarity\n",
            "KulczynskiSimilarityNeighbors\n",
            "KulczynskiSimilarityNeighbors_sparse\n",
            "LongSparseIntVect\n",
            "McConnaugheySimilarity\n",
            "McConnaugheySimilarityNeighbors\n",
            "McConnaugheySimilarityNeighbors_sparse\n",
            "MultiFPBReader\n",
            "NumBitsInCommon\n",
            "ONEBITVALUE\n",
            "OffBitProjSimilarity\n",
            "OffBitsInCommon\n",
            "OnBitProjSimilarity\n",
            "OnBitSimilarity\n",
            "OnBitsInCommon\n",
            "RogotGoldbergSimilarity\n",
            "RogotGoldbergSimilarityNeighbors\n",
            "RogotGoldbergSimilarityNeighbors_sparse\n",
            "RusselSimilarity\n",
            "RusselSimilarityNeighbors\n",
            "RusselSimilarityNeighbors_sparse\n",
            "SIXTEENBITVALUE\n",
            "SokalSimilarity\n",
            "SokalSimilarityNeighbors\n",
            "SokalSimilarityNeighbors_sparse\n",
            "SparseBitVect\n",
            "TWOBITVALUE\n",
            "TanimotoSimilarity\n",
            "TanimotoSimilarityNeighbors\n",
            "TanimotoSimilarityNeighbors_sparse\n",
            "TverskySimilarity\n",
            "UIntSparseIntVect\n",
            "ULongSparseIntVect\n",
            "__builtins__\n",
            "__cached__\n",
            "__doc__\n",
            "__file__\n",
            "__loader__\n",
            "__name__\n",
            "__package__\n",
            "__path__\n",
            "__spec__\n",
            "cDataStructs\n",
            "rdBase\n",
            "similarityFunctions\n"
          ]
        }
      ]
    }
  ]
}
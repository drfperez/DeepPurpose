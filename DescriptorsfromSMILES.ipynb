{
  "nbformat": 4,
  "nbformat_minor": 0,
  "metadata": {
    "colab": {
      "provenance": [],
      "authorship_tag": "ABX9TyPTjwViCVqKXHNSpbrptYEC",
      "include_colab_link": true
    },
    "kernelspec": {
      "name": "python3",
      "display_name": "Python 3"
    },
    "language_info": {
      "name": "python"
    }
  },
  "cells": [
    {
      "cell_type": "markdown",
      "metadata": {
        "id": "view-in-github",
        "colab_type": "text"
      },
      "source": [
        "<a href=\"https://colab.research.google.com/github/drfperez/DeepPurpose/blob/main/DescriptorsfromSMILES.ipynb\" target=\"_parent\"><img src=\"https://colab.research.google.com/assets/colab-badge.svg\" alt=\"Open In Colab\"/></a>"
      ]
    },
    {
      "cell_type": "code",
      "source": [
        "\n",
        "# RDKit Installation (in Google Colab)\n",
        "!pip install rdkit\n",
        "\n",
        "# Importing necessary libraries\n",
        "import numpy as np\n",
        "import pandas as pd\n",
        "from rdkit import Chem\n",
        "from rdkit.Chem import Descriptors\n",
        "from rdkit.Chem import AllChem\n",
        "from rdkit.Chem.rdMolDescriptors import CalcEEMcharges\n",
        "from google.colab import files\n",
        "\n",
        "# Definition of the function to calculate descriptors\n",
        "def calculate_descriptors(compound):\n",
        "    mol = Chem.MolFromSmiles(compound)\n",
        "\n",
        "    # Generate conformers\n",
        "    AllChem.EmbedMultipleConfs(mol, numConfs=10, randomSeed=42)\n",
        "\n",
        "    descriptors = {}\n",
        "\n",
        "    # Basic descriptors:\n",
        "    descriptors['Molecular weight'] = Descriptors.MolWt(mol)\n",
        "    descriptors['Surface area'] = Descriptors.TPSA(mol)\n",
        "    descriptors['LogP'] = Descriptors.MolLogP(mol)\n",
        "    descriptors['Number of atoms'] = mol.GetNumAtoms()\n",
        "    descriptors['Number of rotatable bonds'] = Descriptors.NumRotatableBonds(mol)\n",
        "\n",
        "    # Additional descriptors for docking:\n",
        "    descriptors['Fraction of sp3 carbons'] = Descriptors.FractionCSP3(mol)\n",
        "    descriptors['Number of hydrogen donors'] = Descriptors.NumHDonors(mol)\n",
        "    descriptors['Number of hydrogen acceptors'] = Descriptors.NumHAcceptors(mol)\n",
        "\n",
        "    # Formal topological charge\n",
        "    descriptors['Formal charge'] = Chem.GetFormalCharge(mol)\n",
        "\n",
        "    # Electrostatic descriptors:\n",
        "    charges = CalcEEMcharges(mol)\n",
        "    descriptors['Total charge'] = sum(charges)\n",
        "    descriptors['Average charge'] = np.mean(charges)\n",
        "\n",
        "    # Hydrophobic descriptors:\n",
        "    #descriptors['McGowan solvation parameter'] = Descriptors.McGowanVolume(mol)\n",
        "    #descriptors['Hydrophobic accessible surface area'] = Descriptors.GetASAHydrophobic(mol)\n",
        "\n",
        "    # 3D descriptors:\n",
        "    #descriptors['Accessible volume'] = Descriptors.GetAccessibleVolume(mol)\n",
        "\n",
        "    # Fragment-based descriptors:\n",
        "    #descriptors['Morgan fingerprint'] = Descriptors.GetMorganFingerprintAsBitVect(mol, radius=2)\n",
        "    #descriptors['MACCS descriptor'] = Descriptors.GetMACCSKeysFingerprint(mol)\n",
        "\n",
        "    # Connectivity descriptors:\n",
        "    #descriptors['Branching index'] = Descriptors.GetBranchingDegree(mol)\n",
        "    descriptors['Number of rings'] = mol.GetRingInfo().NumRings()\n",
        "\n",
        "    # Topological descriptors:\n",
        "    #descriptors['Wiener index'] = Descriptors.WienerIndex(mol)\n",
        "    descriptors['Number of cycles'] = Descriptors.RingCount(mol)\n",
        "\n",
        "    # Quantum descriptors (using estimated HOMO-LUMO gap):\n",
        "    descriptors['HOMO-LUMO gap (estimated)'] = Descriptors.FractionCSP3(mol)\n",
        "\n",
        "    # Docking descriptors (omitted for simplicity)\n",
        "    # descriptors['Docking score'] = ...\n",
        "    # descriptors['Binding energy'] = ...\n",
        "\n",
        "    return descriptors\n",
        "\n",
        "# Introduction of the chemical compounds as SMILES separated by commas\n",
        "chemical_compounds = input(\"Enter the SMILES structures of the chemical compounds separated by commas: \")\n",
        "chemical_compounds_list = chemical_compounds.split(',')\n",
        "\n",
        "# Calculation of descriptors for each compound\n",
        "all_compound_descriptors = []\n",
        "for compound in chemical_compounds_list:\n",
        "    compound_descriptors = calculate_descriptors(compound)\n",
        "    all_compound_descriptors.append(compound_descriptors)\n",
        "\n",
        "# Convert descriptors to DataFrame\n",
        "df = pd.DataFrame(all_compound_descriptors)\n",
        "\n",
        "# Save DataFrame to CSV\n",
        "output_file_path = 'compound_descriptors.csv'\n",
        "df.to_csv(output_file_path, index=False)\n",
        "\n",
        "# Download CSV file\n",
        "files.download(output_file_path)\n",
        "\n",
        "# Show descriptors\n",
        "print(\"\\nDescriptors of the chemical compounds:\")\n",
        "print(df)"
      ],
      "metadata": {
        "colab": {
          "base_uri": "https://localhost:8080/",
          "height": 506
        },
        "id": "N4V0I9U0S62f",
        "outputId": "eacfa48b-16b0-4aba-fc3d-50a15e4febc6"
      },
      "execution_count": null,
      "outputs": [
        {
          "name": "stdout",
          "output_type": "stream",
          "text": [
            "Requirement already satisfied: rdkit in /usr/local/lib/python3.10/dist-packages (2023.9.5)\n",
            "Requirement already satisfied: numpy in /usr/local/lib/python3.10/dist-packages (from rdkit) (1.25.2)\n",
            "Requirement already satisfied: Pillow in /usr/local/lib/python3.10/dist-packages (from rdkit) (9.4.0)\n",
            "Enter the SMILES structures of the chemical compounds separated by commas: CC1C(=O)OC2C1(C34C(=O)OC5C3(C2O)C6(C(C5)C(C)(C)C)C(C(=O)OC6O4)O)O,CC1C(=O)OC2C1(C34C(=O)OC5C3(C2O)C6(C(C5)C(C)(C)C)C(C(=O)OC6O4)O)O\n"
          ]
        },
        {
          "output_type": "stream",
          "name": "stderr",
          "text": [
            "[17:54:14] Molecule does not have explicit Hs. Consider calling AddHs()\n",
            "[17:54:14] Molecule does not have explicit Hs. Consider calling AddHs()\n"
          ]
        },
        {
          "output_type": "display_data",
          "data": {
            "text/plain": [
              "<IPython.core.display.Javascript object>"
            ],
            "application/javascript": [
              "\n",
              "    async function download(id, filename, size) {\n",
              "      if (!google.colab.kernel.accessAllowed) {\n",
              "        return;\n",
              "      }\n",
              "      const div = document.createElement('div');\n",
              "      const label = document.createElement('label');\n",
              "      label.textContent = `Downloading \"${filename}\": `;\n",
              "      div.appendChild(label);\n",
              "      const progress = document.createElement('progress');\n",
              "      progress.max = size;\n",
              "      div.appendChild(progress);\n",
              "      document.body.appendChild(div);\n",
              "\n",
              "      const buffers = [];\n",
              "      let downloaded = 0;\n",
              "\n",
              "      const channel = await google.colab.kernel.comms.open(id);\n",
              "      // Send a message to notify the kernel that we're ready.\n",
              "      channel.send({})\n",
              "\n",
              "      for await (const message of channel.messages) {\n",
              "        // Send a message to notify the kernel that we're ready.\n",
              "        channel.send({})\n",
              "        if (message.buffers) {\n",
              "          for (const buffer of message.buffers) {\n",
              "            buffers.push(buffer);\n",
              "            downloaded += buffer.byteLength;\n",
              "            progress.value = downloaded;\n",
              "          }\n",
              "        }\n",
              "      }\n",
              "      const blob = new Blob(buffers, {type: 'application/binary'});\n",
              "      const a = document.createElement('a');\n",
              "      a.href = window.URL.createObjectURL(blob);\n",
              "      a.download = filename;\n",
              "      div.appendChild(a);\n",
              "      a.click();\n",
              "      div.remove();\n",
              "    }\n",
              "  "
            ]
          },
          "metadata": {}
        },
        {
          "output_type": "display_data",
          "data": {
            "text/plain": [
              "<IPython.core.display.Javascript object>"
            ],
            "application/javascript": [
              "download(\"download_954cc165-5e88-4241-a581-1486b131486b\", \"compound_descriptors.csv\", 493)"
            ]
          },
          "metadata": {}
        },
        {
          "output_type": "stream",
          "name": "stdout",
          "text": [
            "\n",
            "Descriptors of the chemical compounds:\n",
            "   Molecular weight  Surface area    LogP  Number of atoms  \\\n",
            "0           424.402        148.82 -1.3695               30   \n",
            "1           424.402        148.82 -1.3695               30   \n",
            "\n",
            "   Number of rotatable bonds  Fraction of sp3 carbons  \\\n",
            "0                          0                     0.85   \n",
            "1                          0                     0.85   \n",
            "\n",
            "   Number of hydrogen donors  Number of hydrogen acceptors  Formal charge  \\\n",
            "0                          3                            10              0   \n",
            "1                          3                            10              0   \n",
            "\n",
            "   Total charge  Average charge  Number of rings  Number of cycles  \\\n",
            "0 -1.443290e-15   -4.810966e-17                6                 6   \n",
            "1 -1.443290e-15   -4.810966e-17                6                 6   \n",
            "\n",
            "   HOMO-LUMO gap (estimated)  \n",
            "0                       0.85  \n",
            "1                       0.85  \n"
          ]
        }
      ]
    }
  ]
}